{
 "cells": [
  {
   "cell_type": "code",
   "execution_count": 1,
   "id": "f087c942",
   "metadata": {},
   "outputs": [],
   "source": [
    "import import_ipynb\n",
    "from IPython.display import Audio\n",
    "from scipy.signal import fftconvolve\n",
    "import numpy as np"
   ]
  },
  {
   "cell_type": "code",
   "execution_count": 2,
   "id": "dbce1adc",
   "metadata": {},
   "outputs": [],
   "source": [
    "from func import prep, rir, padding"
   ]
  },
  {
   "cell_type": "code",
   "execution_count": 3,
   "id": "1ade5282",
   "metadata": {},
   "outputs": [],
   "source": [
    "rocation = \"../sound/speech-librivox-0091.wav\"\n",
    "sound, fs = prep(rocation, 16000)\n",
    "source_to_err = rir([5, 4, 3], [1, 1, 1], [4, 3, 2]) # room_size, speaker_pos, mic_pos\n",
    "loud_to_err  = rir([5, 4, 3], [2, 2, 2], [4, 3, 2]) # room_size, speaker_pos, mic_pos\n",
    "target = fftconvolve(sound, source_to_err, mode=\"full\")\n",
    "before_W = fftconvolve(sound, loud_to_err, mode=\"full\")"
   ]
  },
  {
   "cell_type": "code",
   "execution_count": 4,
   "id": "88a3c04a",
   "metadata": {},
   "outputs": [
    {
     "data": {
      "text/plain": [
       "(2814, 320)"
      ]
     },
     "execution_count": 4,
     "metadata": {},
     "output_type": "execute_result"
    }
   ],
   "source": [
    "x = padding(sound)\n",
    "x.shape"
   ]
  }
 ],
 "metadata": {
  "kernelspec": {
   "display_name": "anc",
   "language": "python",
   "name": "python3"
  },
  "language_info": {
   "codemirror_mode": {
    "name": "ipython",
    "version": 3
   },
   "file_extension": ".py",
   "mimetype": "text/x-python",
   "name": "python",
   "nbconvert_exporter": "python",
   "pygments_lexer": "ipython3",
   "version": "3.12.11"
  }
 },
 "nbformat": 4,
 "nbformat_minor": 5
}
