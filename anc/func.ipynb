{
 "cells": [
  {
   "cell_type": "code",
   "execution_count": 51,
   "id": "c8671a8a",
   "metadata": {},
   "outputs": [],
   "source": [
    "import numpy as np\n",
    "import pyroomacoustics as pra\n",
    "from scipy.io import wavfile\n",
    "from scipy.signal import resample_poly, czt\n",
    "from fractions import Fraction\n"
   ]
  },
  {
   "cell_type": "code",
   "execution_count": 52,
   "id": "7029076f",
   "metadata": {},
   "outputs": [],
   "source": [
    "def prep(file_location:str, fs_out:int, mono:bool = True, max_den:int = 1000):\n",
    "    fs_in, x = wavfile.read(file_location)\n",
    "    if np.issubdtype(x.dtype, np.integer):\n",
    "        x = x.astype(np.float32) / np.iinfo(x.dtype).max\n",
    "    else:\n",
    "        x = x.astype(np.float32)\n",
    "        m = np.max(np.abs(x)) + 1e-12\n",
    "        if m > 1:\n",
    "            x /= m\n",
    "    if mono and x.ndim == 2:\n",
    "        x = x.mean(axis=1)\n",
    "    if fs_in != fs_out:\n",
    "        if x.ndim == 1:\n",
    "            frac = Fraction(fs_out, fs_in).limit_denominator(max_den)\n",
    "            x = resample_poly(x, up=frac.numerator, down=frac.denominator)\n",
    "        else:\n",
    "            frac = Fraction(fs_out, fs_in).limit_denominator(max_den)\n",
    "            x = np.column_stack([\n",
    "                resample_poly(x[:, c], up=frac.numerator, down=frac.denominator)\n",
    "                for c in range(x.shape[1])\n",
    "            ])\n",
    "\n",
    "    return x.astype(np.float32), fs_out"
   ]
  },
  {
   "cell_type": "code",
   "execution_count": 53,
   "id": "7efbea0c",
   "metadata": {},
   "outputs": [],
   "source": [
    "# ---------- RIR(Impulse Response) 생성 (샘플레이트 16 kHz) ----------\n",
    "def rir(room_size = list, # 가로 5m, 세로 4m, 높이 3m짜리 직육면체 방을 생성\n",
    "        noise_source = list,\n",
    "        mic_pos = list, \n",
    "        fs_rir = 16000,# fs=fs_rir : 샘플레이트 16kHz로 시뮬레이션\n",
    "        absorption=0.2, # absorption=0.2 : 벽면 흡수율(0=완전반사, 1=완전흡수)\n",
    "        max_order=10, # max_order=10 : 10차 반사까지 계산(크면 더 정확하지만 계산량↑)\n",
    "        \n",
    "        ):\n",
    "    room = pra.ShoeBox(room_size, fs=fs_rir, absorption=absorption, max_order=max_order)  \n",
    "    room.add_source(noise_source)  # 방 안에 (x=2m, y=1.5m, z=1.5m) 위치에 음원(스피커)을 추가\n",
    "    room.add_microphone_array(np.c_[mic_pos]) # np.c_[[...]] : pyroomacoustics 마이크 배열 입력형태(3×N)로 변환\n",
    "    room.compute_rir()  \n",
    "    # 지정된 음원과 마이크 위치를 기반으로\n",
    "    # 방의 잔향(임펄스 응답)을 실제 음향학 모델로 계산\n",
    "    rir = room.rir[0][0].astype(np.float32) \n",
    "    # 첫 번째 마이크와 첫 번째 소스 사이의 RIR(임펄스 응답)을 가져옴\n",
    "    # float32로 변환하여 후처리(컨볼루션)에 사용하기 편하게 함\n",
    "    return rir"
   ]
  }
 ],
 "metadata": {
  "kernelspec": {
   "display_name": "anc",
   "language": "python",
   "name": "python3"
  },
  "language_info": {
   "codemirror_mode": {
    "name": "ipython",
    "version": 3
   },
   "file_extension": ".py",
   "mimetype": "text/x-python",
   "name": "python",
   "nbconvert_exporter": "python",
   "pygments_lexer": "ipython3",
   "version": "3.12.11"
  }
 },
 "nbformat": 4,
 "nbformat_minor": 5
}
